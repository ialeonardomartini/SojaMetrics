{
 "cells": [
  {
   "cell_type": "code",
   "execution_count": 2,
   "metadata": {},
   "outputs": [],
   "source": [
    "import pandas as pd\n",
    "import plotly.express as px\n",
    "import plotly.graph_objects as go\n",
    "import matplotlib.pyplot as plt\n",
    "import seaborn as sns\n",
    "import numpy as np\n",
    "import sklearn"
   ]
  },
  {
   "cell_type": "markdown",
   "metadata": {},
   "source": [
    "# Visualização do conjunto de dados"
   ]
  },
  {
   "cell_type": "code",
   "execution_count": 3,
   "metadata": {},
   "outputs": [
    {
     "name": "stdout",
     "output_type": "stream",
     "text": [
      "<class 'pandas.core.frame.DataFrame'>\n",
      "Index: 351 entries, 0 to 350\n",
      "Data columns (total 17 columns):\n",
      " #   Column                    Non-Null Count  Dtype  \n",
      "---  ------                    --------------  -----  \n",
      " 0   mes                       351 non-null    int64  \n",
      " 1   ano                       351 non-null    int64  \n",
      " 2   ano_mes                   351 non-null    object \n",
      " 3   estoque                   312 non-null    float64\n",
      " 4   exportacao                337 non-null    float64\n",
      " 5   processamento             312 non-null    float64\n",
      " 6   compra_liquida            312 non-null    float64\n",
      " 7   importacao                322 non-null    float64\n",
      " 8   saldo                     312 non-null    float64\n",
      " 9   producao                  315 non-null    float64\n",
      " 10  chicago_cbot_u$/t         349 non-null    float64\n",
      " 11  fob_porto_paranagua_u$/t  349 non-null    float64\n",
      " 12  maringa_r$/saca           349 non-null    float64\n",
      " 13  mogiana_r$/saca           349 non-null    float64\n",
      " 14  passofundo_r$/saca        349 non-null    float64\n",
      " 15  rondonopolis_r$/saca      349 non-null    float64\n",
      " 16  usdbrl                    349 non-null    float64\n",
      "dtypes: float64(14), int64(2), object(1)\n",
      "memory usage: 49.4+ KB\n"
     ]
    }
   ],
   "source": [
    "soja_mensal = pd.read_csv(\"database/soja_mensal1.csv\", index_col=0)\n",
    "soja_mensal.info()"
   ]
  },
  {
   "cell_type": "code",
   "execution_count": 4,
   "metadata": {},
   "outputs": [
    {
     "name": "stdout",
     "output_type": "stream",
     "text": [
      "<class 'pandas.core.frame.DataFrame'>\n",
      "Index: 296 entries, 38 to 349\n",
      "Data columns (total 17 columns):\n",
      " #   Column                    Non-Null Count  Dtype         \n",
      "---  ------                    --------------  -----         \n",
      " 0   mes                       296 non-null    int64         \n",
      " 1   ano                       296 non-null    int64         \n",
      " 2   ano_mes                   296 non-null    datetime64[ns]\n",
      " 3   estoque                   296 non-null    float64       \n",
      " 4   exportacao                296 non-null    float64       \n",
      " 5   processamento             296 non-null    float64       \n",
      " 6   compra_liquida            296 non-null    float64       \n",
      " 7   importacao                296 non-null    float64       \n",
      " 8   saldo                     296 non-null    float64       \n",
      " 9   producao                  296 non-null    float64       \n",
      " 10  chicago_cbot_u$/t         296 non-null    float64       \n",
      " 11  fob_porto_paranagua_u$/t  296 non-null    float64       \n",
      " 12  maringa_r$/saca           296 non-null    float64       \n",
      " 13  mogiana_r$/saca           296 non-null    float64       \n",
      " 14  passofundo_r$/saca        296 non-null    float64       \n",
      " 15  rondonopolis_r$/saca      296 non-null    float64       \n",
      " 16  usdbrl                    296 non-null    float64       \n",
      "dtypes: datetime64[ns](1), float64(14), int64(2)\n",
      "memory usage: 41.6 KB\n"
     ]
    },
    {
     "data": {
      "text/html": [
       "<div>\n",
       "<style scoped>\n",
       "    .dataframe tbody tr th:only-of-type {\n",
       "        vertical-align: middle;\n",
       "    }\n",
       "\n",
       "    .dataframe tbody tr th {\n",
       "        vertical-align: top;\n",
       "    }\n",
       "\n",
       "    .dataframe thead th {\n",
       "        text-align: right;\n",
       "    }\n",
       "</style>\n",
       "<table border=\"1\" class=\"dataframe\">\n",
       "  <thead>\n",
       "    <tr style=\"text-align: right;\">\n",
       "      <th></th>\n",
       "      <th>mes</th>\n",
       "      <th>ano</th>\n",
       "      <th>ano_mes</th>\n",
       "      <th>estoque</th>\n",
       "      <th>exportacao</th>\n",
       "      <th>processamento</th>\n",
       "      <th>compra_liquida</th>\n",
       "      <th>importacao</th>\n",
       "      <th>saldo</th>\n",
       "      <th>producao</th>\n",
       "      <th>chicago_cbot_u$/t</th>\n",
       "      <th>fob_porto_paranagua_u$/t</th>\n",
       "      <th>maringa_r$/saca</th>\n",
       "      <th>mogiana_r$/saca</th>\n",
       "      <th>passofundo_r$/saca</th>\n",
       "      <th>rondonopolis_r$/saca</th>\n",
       "      <th>usdbrl</th>\n",
       "    </tr>\n",
       "  </thead>\n",
       "  <tbody>\n",
       "    <tr>\n",
       "      <th>38</th>\n",
       "      <td>3</td>\n",
       "      <td>1999</td>\n",
       "      <td>1999-03-01</td>\n",
       "      <td>5121.27</td>\n",
       "      <td>523.877889</td>\n",
       "      <td>1799.80</td>\n",
       "      <td>5626.6</td>\n",
       "      <td>19.050000</td>\n",
       "      <td>3826.79</td>\n",
       "      <td>10354.41</td>\n",
       "      <td>177.021013</td>\n",
       "      <td>169.304477</td>\n",
       "      <td>16.740</td>\n",
       "      <td>16.780</td>\n",
       "      <td>17.40</td>\n",
       "      <td>14.390</td>\n",
       "      <td>1.8900</td>\n",
       "    </tr>\n",
       "    <tr>\n",
       "      <th>39</th>\n",
       "      <td>4</td>\n",
       "      <td>1999</td>\n",
       "      <td>1999-04-01</td>\n",
       "      <td>8237.95</td>\n",
       "      <td>1568.170612</td>\n",
       "      <td>2317.33</td>\n",
       "      <td>5434.0</td>\n",
       "      <td>132.404010</td>\n",
       "      <td>3116.68</td>\n",
       "      <td>4392.78</td>\n",
       "      <td>177.733874</td>\n",
       "      <td>170.752246</td>\n",
       "      <td>15.280</td>\n",
       "      <td>15.360</td>\n",
       "      <td>15.94</td>\n",
       "      <td>13.020</td>\n",
       "      <td>1.7300</td>\n",
       "    </tr>\n",
       "    <tr>\n",
       "      <th>40</th>\n",
       "      <td>5</td>\n",
       "      <td>1999</td>\n",
       "      <td>1999-05-01</td>\n",
       "      <td>7731.05</td>\n",
       "      <td>1860.894337</td>\n",
       "      <td>2483.90</td>\n",
       "      <td>1977.0</td>\n",
       "      <td>68.982000</td>\n",
       "      <td>-506.90</td>\n",
       "      <td>1568.85</td>\n",
       "      <td>171.648834</td>\n",
       "      <td>167.514975</td>\n",
       "      <td>15.290</td>\n",
       "      <td>15.200</td>\n",
       "      <td>15.72</td>\n",
       "      <td>13.200</td>\n",
       "      <td>1.6700</td>\n",
       "    </tr>\n",
       "    <tr>\n",
       "      <th>41</th>\n",
       "      <td>6</td>\n",
       "      <td>1999</td>\n",
       "      <td>1999-06-01</td>\n",
       "      <td>6656.48</td>\n",
       "      <td>1422.179649</td>\n",
       "      <td>2234.57</td>\n",
       "      <td>1160.0</td>\n",
       "      <td>102.503235</td>\n",
       "      <td>-1074.57</td>\n",
       "      <td>627.54</td>\n",
       "      <td>169.969568</td>\n",
       "      <td>172.174293</td>\n",
       "      <td>16.010</td>\n",
       "      <td>15.930</td>\n",
       "      <td>16.31</td>\n",
       "      <td>13.820</td>\n",
       "      <td>1.7700</td>\n",
       "    </tr>\n",
       "    <tr>\n",
       "      <th>42</th>\n",
       "      <td>7</td>\n",
       "      <td>1999</td>\n",
       "      <td>1999-07-01</td>\n",
       "      <td>5429.49</td>\n",
       "      <td>1252.347954</td>\n",
       "      <td>2045.99</td>\n",
       "      <td>819.0</td>\n",
       "      <td>75.659139</td>\n",
       "      <td>-1226.99</td>\n",
       "      <td>627.54</td>\n",
       "      <td>159.037809</td>\n",
       "      <td>166.938072</td>\n",
       "      <td>15.650</td>\n",
       "      <td>15.640</td>\n",
       "      <td>15.82</td>\n",
       "      <td>13.830</td>\n",
       "      <td>1.8100</td>\n",
       "    </tr>\n",
       "    <tr>\n",
       "      <th>...</th>\n",
       "      <td>...</td>\n",
       "      <td>...</td>\n",
       "      <td>...</td>\n",
       "      <td>...</td>\n",
       "      <td>...</td>\n",
       "      <td>...</td>\n",
       "      <td>...</td>\n",
       "      <td>...</td>\n",
       "      <td>...</td>\n",
       "      <td>...</td>\n",
       "      <td>...</td>\n",
       "      <td>...</td>\n",
       "      <td>...</td>\n",
       "      <td>...</td>\n",
       "      <td>...</td>\n",
       "      <td>...</td>\n",
       "      <td>...</td>\n",
       "    </tr>\n",
       "    <tr>\n",
       "      <th>345</th>\n",
       "      <td>8</td>\n",
       "      <td>2024</td>\n",
       "      <td>2024-08-01</td>\n",
       "      <td>14094.00</td>\n",
       "      <td>8041.521901</td>\n",
       "      <td>4368.00</td>\n",
       "      <td>1065.0</td>\n",
       "      <td>50.174977</td>\n",
       "      <td>-3303.00</td>\n",
       "      <td>1535.00</td>\n",
       "      <td>360.238794</td>\n",
       "      <td>408.925919</td>\n",
       "      <td>131.000</td>\n",
       "      <td>131.600</td>\n",
       "      <td>131.30</td>\n",
       "      <td>128.600</td>\n",
       "      <td>5.5079</td>\n",
       "    </tr>\n",
       "    <tr>\n",
       "      <th>346</th>\n",
       "      <td>9</td>\n",
       "      <td>2024</td>\n",
       "      <td>2024-09-01</td>\n",
       "      <td>11915.00</td>\n",
       "      <td>6106.462842</td>\n",
       "      <td>4194.00</td>\n",
       "      <td>2014.0</td>\n",
       "      <td>15.000000</td>\n",
       "      <td>-2179.00</td>\n",
       "      <td>0.00</td>\n",
       "      <td>372.318713</td>\n",
       "      <td>431.753750</td>\n",
       "      <td>138.375</td>\n",
       "      <td>137.375</td>\n",
       "      <td>136.00</td>\n",
       "      <td>134.000</td>\n",
       "      <td>5.5988</td>\n",
       "    </tr>\n",
       "    <tr>\n",
       "      <th>347</th>\n",
       "      <td>10</td>\n",
       "      <td>2024</td>\n",
       "      <td>2024-10-01</td>\n",
       "      <td>9149.00</td>\n",
       "      <td>4709.986654</td>\n",
       "      <td>4447.00</td>\n",
       "      <td>1682.0</td>\n",
       "      <td>0.000052</td>\n",
       "      <td>-2766.00</td>\n",
       "      <td>0.00</td>\n",
       "      <td>369.673072</td>\n",
       "      <td>429.126483</td>\n",
       "      <td>142.750</td>\n",
       "      <td>138.250</td>\n",
       "      <td>136.50</td>\n",
       "      <td>141.125</td>\n",
       "      <td>5.6030</td>\n",
       "    </tr>\n",
       "    <tr>\n",
       "      <th>348</th>\n",
       "      <td>11</td>\n",
       "      <td>2024</td>\n",
       "      <td>2024-11-01</td>\n",
       "      <td>6693.00</td>\n",
       "      <td>2553.033885</td>\n",
       "      <td>4145.00</td>\n",
       "      <td>1688.0</td>\n",
       "      <td>3.158000</td>\n",
       "      <td>-2456.00</td>\n",
       "      <td>0.00</td>\n",
       "      <td>366.163925</td>\n",
       "      <td>418.340906</td>\n",
       "      <td>141.600</td>\n",
       "      <td>140.100</td>\n",
       "      <td>136.80</td>\n",
       "      <td>152.100</td>\n",
       "      <td>5.7378</td>\n",
       "    </tr>\n",
       "    <tr>\n",
       "      <th>349</th>\n",
       "      <td>12</td>\n",
       "      <td>2024</td>\n",
       "      <td>2024-12-01</td>\n",
       "      <td>3940.00</td>\n",
       "      <td>2006.089195</td>\n",
       "      <td>4218.00</td>\n",
       "      <td>1466.0</td>\n",
       "      <td>0.418429</td>\n",
       "      <td>-2753.00</td>\n",
       "      <td>0.00</td>\n",
       "      <td>358.309681</td>\n",
       "      <td>392.298806</td>\n",
       "      <td>136.125</td>\n",
       "      <td>135.875</td>\n",
       "      <td>135.75</td>\n",
       "      <td>129.500</td>\n",
       "      <td>6.0894</td>\n",
       "    </tr>\n",
       "  </tbody>\n",
       "</table>\n",
       "<p>296 rows × 17 columns</p>\n",
       "</div>"
      ],
      "text/plain": [
       "     mes   ano    ano_mes   estoque   exportacao  processamento  \\\n",
       "38     3  1999 1999-03-01   5121.27   523.877889        1799.80   \n",
       "39     4  1999 1999-04-01   8237.95  1568.170612        2317.33   \n",
       "40     5  1999 1999-05-01   7731.05  1860.894337        2483.90   \n",
       "41     6  1999 1999-06-01   6656.48  1422.179649        2234.57   \n",
       "42     7  1999 1999-07-01   5429.49  1252.347954        2045.99   \n",
       "..   ...   ...        ...       ...          ...            ...   \n",
       "345    8  2024 2024-08-01  14094.00  8041.521901        4368.00   \n",
       "346    9  2024 2024-09-01  11915.00  6106.462842        4194.00   \n",
       "347   10  2024 2024-10-01   9149.00  4709.986654        4447.00   \n",
       "348   11  2024 2024-11-01   6693.00  2553.033885        4145.00   \n",
       "349   12  2024 2024-12-01   3940.00  2006.089195        4218.00   \n",
       "\n",
       "     compra_liquida  importacao    saldo  producao  chicago_cbot_u$/t  \\\n",
       "38           5626.6   19.050000  3826.79  10354.41         177.021013   \n",
       "39           5434.0  132.404010  3116.68   4392.78         177.733874   \n",
       "40           1977.0   68.982000  -506.90   1568.85         171.648834   \n",
       "41           1160.0  102.503235 -1074.57    627.54         169.969568   \n",
       "42            819.0   75.659139 -1226.99    627.54         159.037809   \n",
       "..              ...         ...      ...       ...                ...   \n",
       "345          1065.0   50.174977 -3303.00   1535.00         360.238794   \n",
       "346          2014.0   15.000000 -2179.00      0.00         372.318713   \n",
       "347          1682.0    0.000052 -2766.00      0.00         369.673072   \n",
       "348          1688.0    3.158000 -2456.00      0.00         366.163925   \n",
       "349          1466.0    0.418429 -2753.00      0.00         358.309681   \n",
       "\n",
       "     fob_porto_paranagua_u$/t  maringa_r$/saca  mogiana_r$/saca  \\\n",
       "38                 169.304477           16.740           16.780   \n",
       "39                 170.752246           15.280           15.360   \n",
       "40                 167.514975           15.290           15.200   \n",
       "41                 172.174293           16.010           15.930   \n",
       "42                 166.938072           15.650           15.640   \n",
       "..                        ...              ...              ...   \n",
       "345                408.925919          131.000          131.600   \n",
       "346                431.753750          138.375          137.375   \n",
       "347                429.126483          142.750          138.250   \n",
       "348                418.340906          141.600          140.100   \n",
       "349                392.298806          136.125          135.875   \n",
       "\n",
       "     passofundo_r$/saca  rondonopolis_r$/saca  usdbrl  \n",
       "38                17.40                14.390  1.8900  \n",
       "39                15.94                13.020  1.7300  \n",
       "40                15.72                13.200  1.6700  \n",
       "41                16.31                13.820  1.7700  \n",
       "42                15.82                13.830  1.8100  \n",
       "..                  ...                   ...     ...  \n",
       "345              131.30               128.600  5.5079  \n",
       "346              136.00               134.000  5.5988  \n",
       "347              136.50               141.125  5.6030  \n",
       "348              136.80               152.100  5.7378  \n",
       "349              135.75               129.500  6.0894  \n",
       "\n",
       "[296 rows x 17 columns]"
      ]
     },
     "execution_count": 4,
     "metadata": {},
     "output_type": "execute_result"
    }
   ],
   "source": [
    "soja_mensal[\"ano_mes\"] = pd.to_datetime(soja_mensal[\"ano_mes\"])\n",
    "soja_mensal = soja_mensal.dropna()\n",
    "soja_mensal.info()\n",
    "soja_mensal"
   ]
  },
  {
   "cell_type": "code",
   "execution_count": 5,
   "metadata": {},
   "outputs": [
    {
     "data": {
      "text/html": [
       "<div>\n",
       "<style scoped>\n",
       "    .dataframe tbody tr th:only-of-type {\n",
       "        vertical-align: middle;\n",
       "    }\n",
       "\n",
       "    .dataframe tbody tr th {\n",
       "        vertical-align: top;\n",
       "    }\n",
       "\n",
       "    .dataframe thead th {\n",
       "        text-align: right;\n",
       "    }\n",
       "</style>\n",
       "<table border=\"1\" class=\"dataframe\">\n",
       "  <thead>\n",
       "    <tr style=\"text-align: right;\">\n",
       "      <th></th>\n",
       "      <th>mes</th>\n",
       "      <th>ano</th>\n",
       "      <th>ano_mes</th>\n",
       "      <th>estoque</th>\n",
       "      <th>exportacao</th>\n",
       "      <th>processamento</th>\n",
       "      <th>compra_liquida</th>\n",
       "      <th>importacao</th>\n",
       "      <th>saldo</th>\n",
       "      <th>producao</th>\n",
       "      <th>chicago_cbot_u$/t</th>\n",
       "      <th>fob_porto_paranagua_u$/t</th>\n",
       "      <th>maringa_r$/saca</th>\n",
       "      <th>mogiana_r$/saca</th>\n",
       "      <th>passofundo_r$/saca</th>\n",
       "      <th>rondonopolis_r$/saca</th>\n",
       "      <th>usdbrl</th>\n",
       "    </tr>\n",
       "  </thead>\n",
       "  <tbody>\n",
       "    <tr>\n",
       "      <th>count</th>\n",
       "      <td>296.000000</td>\n",
       "      <td>296.000000</td>\n",
       "      <td>296</td>\n",
       "      <td>296.000000</td>\n",
       "      <td>296.000000</td>\n",
       "      <td>296.000000</td>\n",
       "      <td>296.000000</td>\n",
       "      <td>296.000000</td>\n",
       "      <td>296.000000</td>\n",
       "      <td>296.000000</td>\n",
       "      <td>296.000000</td>\n",
       "      <td>296.000000</td>\n",
       "      <td>296.000000</td>\n",
       "      <td>296.000000</td>\n",
       "      <td>296.000000</td>\n",
       "      <td>296.000000</td>\n",
       "      <td>296.000000</td>\n",
       "    </tr>\n",
       "    <tr>\n",
       "      <th>mean</th>\n",
       "      <td>6.500000</td>\n",
       "      <td>2011.685811</td>\n",
       "      <td>2012-02-22 07:51:53.513513472</td>\n",
       "      <td>9543.586486</td>\n",
       "      <td>3828.584383</td>\n",
       "      <td>3040.371318</td>\n",
       "      <td>3108.463345</td>\n",
       "      <td>37.835210</td>\n",
       "      <td>67.881655</td>\n",
       "      <td>7199.561318</td>\n",
       "      <td>360.302191</td>\n",
       "      <td>382.011736</td>\n",
       "      <td>68.968194</td>\n",
       "      <td>68.403052</td>\n",
       "      <td>70.173442</td>\n",
       "      <td>64.654166</td>\n",
       "      <td>3.064422</td>\n",
       "    </tr>\n",
       "    <tr>\n",
       "      <th>min</th>\n",
       "      <td>1.000000</td>\n",
       "      <td>1999.000000</td>\n",
       "      <td>1999-03-01 00:00:00</td>\n",
       "      <td>294.020000</td>\n",
       "      <td>0.284016</td>\n",
       "      <td>820.480000</td>\n",
       "      <td>-766.860000</td>\n",
       "      <td>0.000052</td>\n",
       "      <td>-4991.250000</td>\n",
       "      <td>0.000000</td>\n",
       "      <td>158.997389</td>\n",
       "      <td>158.997389</td>\n",
       "      <td>15.280000</td>\n",
       "      <td>15.200000</td>\n",
       "      <td>15.720000</td>\n",
       "      <td>13.020000</td>\n",
       "      <td>1.564500</td>\n",
       "    </tr>\n",
       "    <tr>\n",
       "      <th>25%</th>\n",
       "      <td>3.000000</td>\n",
       "      <td>2005.000000</td>\n",
       "      <td>2005-05-24 06:00:00</td>\n",
       "      <td>4158.017500</td>\n",
       "      <td>918.317821</td>\n",
       "      <td>2369.997500</td>\n",
       "      <td>827.002500</td>\n",
       "      <td>6.325258</td>\n",
       "      <td>-2138.927500</td>\n",
       "      <td>0.000000</td>\n",
       "      <td>236.237389</td>\n",
       "      <td>244.069903</td>\n",
       "      <td>34.895000</td>\n",
       "      <td>35.457500</td>\n",
       "      <td>35.815000</td>\n",
       "      <td>31.660000</td>\n",
       "      <td>2.010875</td>\n",
       "    </tr>\n",
       "    <tr>\n",
       "      <th>50%</th>\n",
       "      <td>7.000000</td>\n",
       "      <td>2012.000000</td>\n",
       "      <td>2012-04-16 00:00:00</td>\n",
       "      <td>8329.865000</td>\n",
       "      <td>2570.086635</td>\n",
       "      <td>2996.740000</td>\n",
       "      <td>1520.525000</td>\n",
       "      <td>19.623590</td>\n",
       "      <td>-1310.670000</td>\n",
       "      <td>1585.925000</td>\n",
       "      <td>356.549058</td>\n",
       "      <td>385.374670</td>\n",
       "      <td>54.834091</td>\n",
       "      <td>52.501136</td>\n",
       "      <td>52.690000</td>\n",
       "      <td>51.325000</td>\n",
       "      <td>2.714500</td>\n",
       "    </tr>\n",
       "    <tr>\n",
       "      <th>75%</th>\n",
       "      <td>9.250000</td>\n",
       "      <td>2018.000000</td>\n",
       "      <td>2018-08-08 18:00:00</td>\n",
       "      <td>14052.007500</td>\n",
       "      <td>5276.812800</td>\n",
       "      <td>3666.087500</td>\n",
       "      <td>3990.280000</td>\n",
       "      <td>58.779107</td>\n",
       "      <td>1025.912500</td>\n",
       "      <td>9536.575000</td>\n",
       "      <td>471.153743</td>\n",
       "      <td>498.165318</td>\n",
       "      <td>79.487500</td>\n",
       "      <td>78.100000</td>\n",
       "      <td>81.750000</td>\n",
       "      <td>76.237500</td>\n",
       "      <td>3.863075</td>\n",
       "    </tr>\n",
       "    <tr>\n",
       "      <th>max</th>\n",
       "      <td>12.000000</td>\n",
       "      <td>2024.000000</td>\n",
       "      <td>2024-12-01 00:00:00</td>\n",
       "      <td>29408.280000</td>\n",
       "      <td>16114.936472</td>\n",
       "      <td>5099.110000</td>\n",
       "      <td>19129.430000</td>\n",
       "      <td>168.726045</td>\n",
       "      <td>14812.450000</td>\n",
       "      <td>52899.000000</td>\n",
       "      <td>623.452415</td>\n",
       "      <td>731.394420</td>\n",
       "      <td>199.500000</td>\n",
       "      <td>199.750000</td>\n",
       "      <td>209.750000</td>\n",
       "      <td>188.625000</td>\n",
       "      <td>6.089400</td>\n",
       "    </tr>\n",
       "    <tr>\n",
       "      <th>std</th>\n",
       "      <td>3.467036</td>\n",
       "      <td>7.539676</td>\n",
       "      <td>NaN</td>\n",
       "      <td>6684.290257</td>\n",
       "      <td>3738.025660</td>\n",
       "      <td>893.290673</td>\n",
       "      <td>3668.811512</td>\n",
       "      <td>40.371292</td>\n",
       "      <td>3605.510306</td>\n",
       "      <td>11548.040131</td>\n",
       "      <td>126.729642</td>\n",
       "      <td>136.928115</td>\n",
       "      <td>46.449037</td>\n",
       "      <td>46.915403</td>\n",
       "      <td>47.535504</td>\n",
       "      <td>45.499215</td>\n",
       "      <td>1.264203</td>\n",
       "    </tr>\n",
       "  </tbody>\n",
       "</table>\n",
       "</div>"
      ],
      "text/plain": [
       "              mes          ano                        ano_mes       estoque  \\\n",
       "count  296.000000   296.000000                            296    296.000000   \n",
       "mean     6.500000  2011.685811  2012-02-22 07:51:53.513513472   9543.586486   \n",
       "min      1.000000  1999.000000            1999-03-01 00:00:00    294.020000   \n",
       "25%      3.000000  2005.000000            2005-05-24 06:00:00   4158.017500   \n",
       "50%      7.000000  2012.000000            2012-04-16 00:00:00   8329.865000   \n",
       "75%      9.250000  2018.000000            2018-08-08 18:00:00  14052.007500   \n",
       "max     12.000000  2024.000000            2024-12-01 00:00:00  29408.280000   \n",
       "std      3.467036     7.539676                            NaN   6684.290257   \n",
       "\n",
       "         exportacao  processamento  compra_liquida  importacao         saldo  \\\n",
       "count    296.000000     296.000000      296.000000  296.000000    296.000000   \n",
       "mean    3828.584383    3040.371318     3108.463345   37.835210     67.881655   \n",
       "min        0.284016     820.480000     -766.860000    0.000052  -4991.250000   \n",
       "25%      918.317821    2369.997500      827.002500    6.325258  -2138.927500   \n",
       "50%     2570.086635    2996.740000     1520.525000   19.623590  -1310.670000   \n",
       "75%     5276.812800    3666.087500     3990.280000   58.779107   1025.912500   \n",
       "max    16114.936472    5099.110000    19129.430000  168.726045  14812.450000   \n",
       "std     3738.025660     893.290673     3668.811512   40.371292   3605.510306   \n",
       "\n",
       "           producao  chicago_cbot_u$/t  fob_porto_paranagua_u$/t  \\\n",
       "count    296.000000         296.000000                296.000000   \n",
       "mean    7199.561318         360.302191                382.011736   \n",
       "min        0.000000         158.997389                158.997389   \n",
       "25%        0.000000         236.237389                244.069903   \n",
       "50%     1585.925000         356.549058                385.374670   \n",
       "75%     9536.575000         471.153743                498.165318   \n",
       "max    52899.000000         623.452415                731.394420   \n",
       "std    11548.040131         126.729642                136.928115   \n",
       "\n",
       "       maringa_r$/saca  mogiana_r$/saca  passofundo_r$/saca  \\\n",
       "count       296.000000       296.000000          296.000000   \n",
       "mean         68.968194        68.403052           70.173442   \n",
       "min          15.280000        15.200000           15.720000   \n",
       "25%          34.895000        35.457500           35.815000   \n",
       "50%          54.834091        52.501136           52.690000   \n",
       "75%          79.487500        78.100000           81.750000   \n",
       "max         199.500000       199.750000          209.750000   \n",
       "std          46.449037        46.915403           47.535504   \n",
       "\n",
       "       rondonopolis_r$/saca      usdbrl  \n",
       "count            296.000000  296.000000  \n",
       "mean              64.654166    3.064422  \n",
       "min               13.020000    1.564500  \n",
       "25%               31.660000    2.010875  \n",
       "50%               51.325000    2.714500  \n",
       "75%               76.237500    3.863075  \n",
       "max              188.625000    6.089400  \n",
       "std               45.499215    1.264203  "
      ]
     },
     "execution_count": 5,
     "metadata": {},
     "output_type": "execute_result"
    }
   ],
   "source": [
    "soja_mensal.describe()"
   ]
  },
  {
   "cell_type": "code",
   "execution_count": 6,
   "metadata": {},
   "outputs": [
    {
     "data": {
      "text/html": [
       "<div>\n",
       "<style scoped>\n",
       "    .dataframe tbody tr th:only-of-type {\n",
       "        vertical-align: middle;\n",
       "    }\n",
       "\n",
       "    .dataframe tbody tr th {\n",
       "        vertical-align: top;\n",
       "    }\n",
       "\n",
       "    .dataframe thead th {\n",
       "        text-align: right;\n",
       "    }\n",
       "</style>\n",
       "<table border=\"1\" class=\"dataframe\">\n",
       "  <thead>\n",
       "    <tr style=\"text-align: right;\">\n",
       "      <th></th>\n",
       "      <th>mes</th>\n",
       "      <th>ano</th>\n",
       "      <th>ano_mes</th>\n",
       "      <th>estoque</th>\n",
       "      <th>exportacao</th>\n",
       "      <th>processamento</th>\n",
       "      <th>compra_liquida</th>\n",
       "      <th>importacao</th>\n",
       "      <th>saldo</th>\n",
       "      <th>producao</th>\n",
       "      <th>chicago_cbot_u$/t</th>\n",
       "      <th>fob_porto_paranagua_u$/t</th>\n",
       "      <th>maringa_r$/saca</th>\n",
       "      <th>mogiana_r$/saca</th>\n",
       "      <th>passofundo_r$/saca</th>\n",
       "      <th>rondonopolis_r$/saca</th>\n",
       "      <th>usdbrl</th>\n",
       "    </tr>\n",
       "  </thead>\n",
       "  <tbody>\n",
       "    <tr>\n",
       "      <th>338</th>\n",
       "      <td>1</td>\n",
       "      <td>2024</td>\n",
       "      <td>2024-01-01</td>\n",
       "      <td>6703.0</td>\n",
       "      <td>2854.885830</td>\n",
       "      <td>3478.0</td>\n",
       "      <td>4596.0</td>\n",
       "      <td>122.542916</td>\n",
       "      <td>1052.02</td>\n",
       "      <td>15350.0</td>\n",
       "      <td>453.176085</td>\n",
       "      <td>434.656605</td>\n",
       "      <td>117.625</td>\n",
       "      <td>123.500</td>\n",
       "      <td>127.50</td>\n",
       "      <td>113.875</td>\n",
       "      <td>4.8539</td>\n",
       "    </tr>\n",
       "    <tr>\n",
       "      <th>339</th>\n",
       "      <td>2</td>\n",
       "      <td>2024</td>\n",
       "      <td>2024-02-01</td>\n",
       "      <td>14031.0</td>\n",
       "      <td>6608.137654</td>\n",
       "      <td>3652.0</td>\n",
       "      <td>10980.0</td>\n",
       "      <td>35.693650</td>\n",
       "      <td>7328.00</td>\n",
       "      <td>50655.0</td>\n",
       "      <td>427.551041</td>\n",
       "      <td>390.806041</td>\n",
       "      <td>110.500</td>\n",
       "      <td>115.250</td>\n",
       "      <td>119.00</td>\n",
       "      <td>104.250</td>\n",
       "      <td>4.9522</td>\n",
       "    </tr>\n",
       "    <tr>\n",
       "      <th>340</th>\n",
       "      <td>3</td>\n",
       "      <td>2024</td>\n",
       "      <td>2024-03-01</td>\n",
       "      <td>19841.0</td>\n",
       "      <td>12600.297224</td>\n",
       "      <td>4378.0</td>\n",
       "      <td>10184.0</td>\n",
       "      <td>41.978186</td>\n",
       "      <td>5810.00</td>\n",
       "      <td>50655.0</td>\n",
       "      <td>433.958450</td>\n",
       "      <td>416.045262</td>\n",
       "      <td>116.700</td>\n",
       "      <td>119.500</td>\n",
       "      <td>119.30</td>\n",
       "      <td>111.100</td>\n",
       "      <td>4.9802</td>\n",
       "    </tr>\n",
       "    <tr>\n",
       "      <th>341</th>\n",
       "      <td>4</td>\n",
       "      <td>2024</td>\n",
       "      <td>2024-04-01</td>\n",
       "      <td>23848.0</td>\n",
       "      <td>14687.842087</td>\n",
       "      <td>4353.0</td>\n",
       "      <td>8360.0</td>\n",
       "      <td>165.650000</td>\n",
       "      <td>4007.00</td>\n",
       "      <td>21490.0</td>\n",
       "      <td>428.308906</td>\n",
       "      <td>424.175094</td>\n",
       "      <td>123.250</td>\n",
       "      <td>124.375</td>\n",
       "      <td>124.00</td>\n",
       "      <td>116.750</td>\n",
       "      <td>5.1183</td>\n",
       "    </tr>\n",
       "    <tr>\n",
       "      <th>342</th>\n",
       "      <td>5</td>\n",
       "      <td>2024</td>\n",
       "      <td>2024-05-01</td>\n",
       "      <td>23142.0</td>\n",
       "      <td>13436.722311</td>\n",
       "      <td>4289.0</td>\n",
       "      <td>3582.0</td>\n",
       "      <td>158.078129</td>\n",
       "      <td>-706.00</td>\n",
       "      <td>7675.0</td>\n",
       "      <td>446.561985</td>\n",
       "      <td>449.134135</td>\n",
       "      <td>130.700</td>\n",
       "      <td>133.300</td>\n",
       "      <td>131.10</td>\n",
       "      <td>123.000</td>\n",
       "      <td>5.1609</td>\n",
       "    </tr>\n",
       "    <tr>\n",
       "      <th>343</th>\n",
       "      <td>6</td>\n",
       "      <td>2024</td>\n",
       "      <td>2024-06-01</td>\n",
       "      <td>20017.0</td>\n",
       "      <td>13959.612086</td>\n",
       "      <td>4281.0</td>\n",
       "      <td>1156.0</td>\n",
       "      <td>141.498120</td>\n",
       "      <td>-3125.00</td>\n",
       "      <td>3070.0</td>\n",
       "      <td>430.949953</td>\n",
       "      <td>443.167666</td>\n",
       "      <td>132.000</td>\n",
       "      <td>135.875</td>\n",
       "      <td>135.50</td>\n",
       "      <td>126.125</td>\n",
       "      <td>5.3523</td>\n",
       "    </tr>\n",
       "    <tr>\n",
       "      <th>344</th>\n",
       "      <td>7</td>\n",
       "      <td>2024</td>\n",
       "      <td>2024-07-01</td>\n",
       "      <td>17397.0</td>\n",
       "      <td>11249.923995</td>\n",
       "      <td>4437.0</td>\n",
       "      <td>1817.0</td>\n",
       "      <td>86.770020</td>\n",
       "      <td>-2620.00</td>\n",
       "      <td>3070.0</td>\n",
       "      <td>408.200205</td>\n",
       "      <td>427.675055</td>\n",
       "      <td>132.250</td>\n",
       "      <td>135.875</td>\n",
       "      <td>135.25</td>\n",
       "      <td>127.500</td>\n",
       "      <td>5.4291</td>\n",
       "    </tr>\n",
       "    <tr>\n",
       "      <th>345</th>\n",
       "      <td>8</td>\n",
       "      <td>2024</td>\n",
       "      <td>2024-08-01</td>\n",
       "      <td>14094.0</td>\n",
       "      <td>8041.521901</td>\n",
       "      <td>4368.0</td>\n",
       "      <td>1065.0</td>\n",
       "      <td>50.174977</td>\n",
       "      <td>-3303.00</td>\n",
       "      <td>1535.0</td>\n",
       "      <td>360.238794</td>\n",
       "      <td>408.925919</td>\n",
       "      <td>131.000</td>\n",
       "      <td>131.600</td>\n",
       "      <td>131.30</td>\n",
       "      <td>128.600</td>\n",
       "      <td>5.5079</td>\n",
       "    </tr>\n",
       "    <tr>\n",
       "      <th>346</th>\n",
       "      <td>9</td>\n",
       "      <td>2024</td>\n",
       "      <td>2024-09-01</td>\n",
       "      <td>11915.0</td>\n",
       "      <td>6106.462842</td>\n",
       "      <td>4194.0</td>\n",
       "      <td>2014.0</td>\n",
       "      <td>15.000000</td>\n",
       "      <td>-2179.00</td>\n",
       "      <td>0.0</td>\n",
       "      <td>372.318713</td>\n",
       "      <td>431.753750</td>\n",
       "      <td>138.375</td>\n",
       "      <td>137.375</td>\n",
       "      <td>136.00</td>\n",
       "      <td>134.000</td>\n",
       "      <td>5.5988</td>\n",
       "    </tr>\n",
       "    <tr>\n",
       "      <th>347</th>\n",
       "      <td>10</td>\n",
       "      <td>2024</td>\n",
       "      <td>2024-10-01</td>\n",
       "      <td>9149.0</td>\n",
       "      <td>4709.986654</td>\n",
       "      <td>4447.0</td>\n",
       "      <td>1682.0</td>\n",
       "      <td>0.000052</td>\n",
       "      <td>-2766.00</td>\n",
       "      <td>0.0</td>\n",
       "      <td>369.673072</td>\n",
       "      <td>429.126483</td>\n",
       "      <td>142.750</td>\n",
       "      <td>138.250</td>\n",
       "      <td>136.50</td>\n",
       "      <td>141.125</td>\n",
       "      <td>5.6030</td>\n",
       "    </tr>\n",
       "    <tr>\n",
       "      <th>348</th>\n",
       "      <td>11</td>\n",
       "      <td>2024</td>\n",
       "      <td>2024-11-01</td>\n",
       "      <td>6693.0</td>\n",
       "      <td>2553.033885</td>\n",
       "      <td>4145.0</td>\n",
       "      <td>1688.0</td>\n",
       "      <td>3.158000</td>\n",
       "      <td>-2456.00</td>\n",
       "      <td>0.0</td>\n",
       "      <td>366.163925</td>\n",
       "      <td>418.340906</td>\n",
       "      <td>141.600</td>\n",
       "      <td>140.100</td>\n",
       "      <td>136.80</td>\n",
       "      <td>152.100</td>\n",
       "      <td>5.7378</td>\n",
       "    </tr>\n",
       "    <tr>\n",
       "      <th>349</th>\n",
       "      <td>12</td>\n",
       "      <td>2024</td>\n",
       "      <td>2024-12-01</td>\n",
       "      <td>3940.0</td>\n",
       "      <td>2006.089195</td>\n",
       "      <td>4218.0</td>\n",
       "      <td>1466.0</td>\n",
       "      <td>0.418429</td>\n",
       "      <td>-2753.00</td>\n",
       "      <td>0.0</td>\n",
       "      <td>358.309681</td>\n",
       "      <td>392.298806</td>\n",
       "      <td>136.125</td>\n",
       "      <td>135.875</td>\n",
       "      <td>135.75</td>\n",
       "      <td>129.500</td>\n",
       "      <td>6.0894</td>\n",
       "    </tr>\n",
       "  </tbody>\n",
       "</table>\n",
       "</div>"
      ],
      "text/plain": [
       "     mes   ano    ano_mes  estoque    exportacao  processamento  \\\n",
       "338    1  2024 2024-01-01   6703.0   2854.885830         3478.0   \n",
       "339    2  2024 2024-02-01  14031.0   6608.137654         3652.0   \n",
       "340    3  2024 2024-03-01  19841.0  12600.297224         4378.0   \n",
       "341    4  2024 2024-04-01  23848.0  14687.842087         4353.0   \n",
       "342    5  2024 2024-05-01  23142.0  13436.722311         4289.0   \n",
       "343    6  2024 2024-06-01  20017.0  13959.612086         4281.0   \n",
       "344    7  2024 2024-07-01  17397.0  11249.923995         4437.0   \n",
       "345    8  2024 2024-08-01  14094.0   8041.521901         4368.0   \n",
       "346    9  2024 2024-09-01  11915.0   6106.462842         4194.0   \n",
       "347   10  2024 2024-10-01   9149.0   4709.986654         4447.0   \n",
       "348   11  2024 2024-11-01   6693.0   2553.033885         4145.0   \n",
       "349   12  2024 2024-12-01   3940.0   2006.089195         4218.0   \n",
       "\n",
       "     compra_liquida  importacao    saldo  producao  chicago_cbot_u$/t  \\\n",
       "338          4596.0  122.542916  1052.02   15350.0         453.176085   \n",
       "339         10980.0   35.693650  7328.00   50655.0         427.551041   \n",
       "340         10184.0   41.978186  5810.00   50655.0         433.958450   \n",
       "341          8360.0  165.650000  4007.00   21490.0         428.308906   \n",
       "342          3582.0  158.078129  -706.00    7675.0         446.561985   \n",
       "343          1156.0  141.498120 -3125.00    3070.0         430.949953   \n",
       "344          1817.0   86.770020 -2620.00    3070.0         408.200205   \n",
       "345          1065.0   50.174977 -3303.00    1535.0         360.238794   \n",
       "346          2014.0   15.000000 -2179.00       0.0         372.318713   \n",
       "347          1682.0    0.000052 -2766.00       0.0         369.673072   \n",
       "348          1688.0    3.158000 -2456.00       0.0         366.163925   \n",
       "349          1466.0    0.418429 -2753.00       0.0         358.309681   \n",
       "\n",
       "     fob_porto_paranagua_u$/t  maringa_r$/saca  mogiana_r$/saca  \\\n",
       "338                434.656605          117.625          123.500   \n",
       "339                390.806041          110.500          115.250   \n",
       "340                416.045262          116.700          119.500   \n",
       "341                424.175094          123.250          124.375   \n",
       "342                449.134135          130.700          133.300   \n",
       "343                443.167666          132.000          135.875   \n",
       "344                427.675055          132.250          135.875   \n",
       "345                408.925919          131.000          131.600   \n",
       "346                431.753750          138.375          137.375   \n",
       "347                429.126483          142.750          138.250   \n",
       "348                418.340906          141.600          140.100   \n",
       "349                392.298806          136.125          135.875   \n",
       "\n",
       "     passofundo_r$/saca  rondonopolis_r$/saca  usdbrl  \n",
       "338              127.50               113.875  4.8539  \n",
       "339              119.00               104.250  4.9522  \n",
       "340              119.30               111.100  4.9802  \n",
       "341              124.00               116.750  5.1183  \n",
       "342              131.10               123.000  5.1609  \n",
       "343              135.50               126.125  5.3523  \n",
       "344              135.25               127.500  5.4291  \n",
       "345              131.30               128.600  5.5079  \n",
       "346              136.00               134.000  5.5988  \n",
       "347              136.50               141.125  5.6030  \n",
       "348              136.80               152.100  5.7378  \n",
       "349              135.75               129.500  6.0894  "
      ]
     },
     "execution_count": 6,
     "metadata": {},
     "output_type": "execute_result"
    }
   ],
   "source": [
    "soja_mensal.tail(12)"
   ]
  },
  {
   "cell_type": "code",
   "execution_count": 7,
   "metadata": {},
   "outputs": [
    {
     "data": {
      "text/plain": [
       "array([[<Axes: title={'center': 'mes'}>, <Axes: title={'center': 'ano'}>,\n",
       "        <Axes: title={'center': 'ano_mes'}>,\n",
       "        <Axes: title={'center': 'estoque'}>],\n",
       "       [<Axes: title={'center': 'exportacao'}>,\n",
       "        <Axes: title={'center': 'processamento'}>,\n",
       "        <Axes: title={'center': 'compra_liquida'}>,\n",
       "        <Axes: title={'center': 'importacao'}>],\n",
       "       [<Axes: title={'center': 'saldo'}>,\n",
       "        <Axes: title={'center': 'producao'}>,\n",
       "        <Axes: title={'center': 'chicago_cbot_u$/t'}>,\n",
       "        <Axes: title={'center': 'fob_porto_paranagua_u$/t'}>],\n",
       "       [<Axes: title={'center': 'maringa_r$/saca'}>,\n",
       "        <Axes: title={'center': 'mogiana_r$/saca'}>,\n",
       "        <Axes: title={'center': 'passofundo_r$/saca'}>,\n",
       "        <Axes: title={'center': 'rondonopolis_r$/saca'}>],\n",
       "       [<Axes: title={'center': 'usdbrl'}>, <Axes: >, <Axes: >, <Axes: >]],\n",
       "      dtype=object)"
      ]
     },
     "execution_count": 7,
     "metadata": {},
     "output_type": "execute_result"
    },
    {
     "data": {
      "image/png": "[encoded data removed]",
      "text/plain": [
       "<Figure size 3000x1500 with 20 Axes>"
      ]
     },
     "metadata": {},
     "output_type": "display_data"
    }
   ],
   "source": [
    "soja_mensal.hist(bins=30, figsize=(30, 15))"
   ]
  },
  {
   "cell_type": "code",
   "execution_count": 8,
   "metadata": {},
   "outputs": [
    {
     "data": {
      "text/plain": [
       "rondonopolis_r$/saca        1.000000\n",
       "maringa_r$/saca             0.997775\n",
       "mogiana_r$/saca             0.996900\n",
       "passofundo_r$/saca          0.995150\n",
       "usdbrl                      0.878289\n",
       "ano_mes                     0.858834\n",
       "ano                         0.856146\n",
       "processamento               0.749614\n",
       "fob_porto_paranagua_u$/t    0.674681\n",
       "chicago_cbot_u$/t           0.651758\n",
       "exportacao                  0.525177\n",
       "estoque                     0.397011\n",
       "producao                    0.186229\n",
       "compra_liquida              0.129785\n",
       "importacao                  0.061940\n",
       "mes                         0.057381\n",
       "saldo                      -0.053722\n",
       "Name: rondonopolis_r$/saca, dtype: float64"
      ]
     },
     "execution_count": 8,
     "metadata": {},
     "output_type": "execute_result"
    }
   ],
   "source": [
    "soja_mensal.corr()[\"rondonopolis_r$/saca\"].sort_values(ascending=False)"
   ]
  },
  {
   "cell_type": "markdown",
   "metadata": {},
   "source": [
    "# Preparação dos dados para o Machine Learning"
   ]
  },
  {
   "cell_type": "code",
   "execution_count": 9,
   "metadata": {},
   "outputs": [
    {
     "name": "stdout",
     "output_type": "stream",
     "text": [
      "<class 'pandas.core.frame.DataFrame'>\n",
      "Index: 296 entries, 38 to 349\n",
      "Data columns (total 8 columns):\n",
      " #   Column                Non-Null Count  Dtype  \n",
      "---  ------                --------------  -----  \n",
      " 0   ano_mes               296 non-null    int64  \n",
      " 1   estoque               296 non-null    float64\n",
      " 2   exportacao            296 non-null    float64\n",
      " 3   processamento         296 non-null    float64\n",
      " 4   importacao            296 non-null    float64\n",
      " 5   producao              296 non-null    float64\n",
      " 6   rondonopolis_r$/saca  296 non-null    float64\n",
      " 7   usdbrl                296 non-null    float64\n",
      "dtypes: float64(7), int64(1)\n",
      "memory usage: 20.8 KB\n"
     ]
    },
    {
     "data": {
      "text/html": [
       "<div>\n",
       "<style scoped>\n",
       "    .dataframe tbody tr th:only-of-type {\n",
       "        vertical-align: middle;\n",
       "    }\n",
       "\n",
       "    .dataframe tbody tr th {\n",
       "        vertical-align: top;\n",
       "    }\n",
       "\n",
       "    .dataframe thead th {\n",
       "        text-align: right;\n",
       "    }\n",
       "</style>\n",
       "<table border=\"1\" class=\"dataframe\">\n",
       "  <thead>\n",
       "    <tr style=\"text-align: right;\">\n",
       "      <th></th>\n",
       "      <th>ano_mes</th>\n",
       "      <th>estoque</th>\n",
       "      <th>exportacao</th>\n",
       "      <th>processamento</th>\n",
       "      <th>importacao</th>\n",
       "      <th>producao</th>\n",
       "      <th>rondonopolis_r$/saca</th>\n",
       "      <th>usdbrl</th>\n",
       "    </tr>\n",
       "  </thead>\n",
       "  <tbody>\n",
       "    <tr>\n",
       "      <th>38</th>\n",
       "      <td>920246400</td>\n",
       "      <td>5121.27</td>\n",
       "      <td>523.877889</td>\n",
       "      <td>1799.80</td>\n",
       "      <td>19.050000</td>\n",
       "      <td>10354.41</td>\n",
       "      <td>14.390</td>\n",
       "      <td>1.8900</td>\n",
       "    </tr>\n",
       "    <tr>\n",
       "      <th>39</th>\n",
       "      <td>922924800</td>\n",
       "      <td>8237.95</td>\n",
       "      <td>1568.170612</td>\n",
       "      <td>2317.33</td>\n",
       "      <td>132.404010</td>\n",
       "      <td>4392.78</td>\n",
       "      <td>13.020</td>\n",
       "      <td>1.7300</td>\n",
       "    </tr>\n",
       "    <tr>\n",
       "      <th>40</th>\n",
       "      <td>925516800</td>\n",
       "      <td>7731.05</td>\n",
       "      <td>1860.894337</td>\n",
       "      <td>2483.90</td>\n",
       "      <td>68.982000</td>\n",
       "      <td>1568.85</td>\n",
       "      <td>13.200</td>\n",
       "      <td>1.6700</td>\n",
       "    </tr>\n",
       "    <tr>\n",
       "      <th>41</th>\n",
       "      <td>928195200</td>\n",
       "      <td>6656.48</td>\n",
       "      <td>1422.179649</td>\n",
       "      <td>2234.57</td>\n",
       "      <td>102.503235</td>\n",
       "      <td>627.54</td>\n",
       "      <td>13.820</td>\n",
       "      <td>1.7700</td>\n",
       "    </tr>\n",
       "    <tr>\n",
       "      <th>42</th>\n",
       "      <td>930787200</td>\n",
       "      <td>5429.49</td>\n",
       "      <td>1252.347954</td>\n",
       "      <td>2045.99</td>\n",
       "      <td>75.659139</td>\n",
       "      <td>627.54</td>\n",
       "      <td>13.830</td>\n",
       "      <td>1.8100</td>\n",
       "    </tr>\n",
       "    <tr>\n",
       "      <th>...</th>\n",
       "      <td>...</td>\n",
       "      <td>...</td>\n",
       "      <td>...</td>\n",
       "      <td>...</td>\n",
       "      <td>...</td>\n",
       "      <td>...</td>\n",
       "      <td>...</td>\n",
       "      <td>...</td>\n",
       "    </tr>\n",
       "    <tr>\n",
       "      <th>345</th>\n",
       "      <td>1722470400</td>\n",
       "      <td>14094.00</td>\n",
       "      <td>8041.521901</td>\n",
       "      <td>4368.00</td>\n",
       "      <td>50.174977</td>\n",
       "      <td>1535.00</td>\n",
       "      <td>128.600</td>\n",
       "      <td>5.5079</td>\n",
       "    </tr>\n",
       "    <tr>\n",
       "      <th>346</th>\n",
       "      <td>1725148800</td>\n",
       "      <td>11915.00</td>\n",
       "      <td>6106.462842</td>\n",
       "      <td>4194.00</td>\n",
       "      <td>15.000000</td>\n",
       "      <td>0.00</td>\n",
       "      <td>134.000</td>\n",
       "      <td>5.5988</td>\n",
       "    </tr>\n",
       "    <tr>\n",
       "      <th>347</th>\n",
       "      <td>1727740800</td>\n",
       "      <td>9149.00</td>\n",
       "      <td>4709.986654</td>\n",
       "      <td>4447.00</td>\n",
       "      <td>0.000052</td>\n",
       "      <td>0.00</td>\n",
       "      <td>141.125</td>\n",
       "      <td>5.6030</td>\n",
       "    </tr>\n",
       "    <tr>\n",
       "      <th>348</th>\n",
       "      <td>1730419200</td>\n",
       "      <td>6693.00</td>\n",
       "      <td>2553.033885</td>\n",
       "      <td>4145.00</td>\n",
       "      <td>3.158000</td>\n",
       "      <td>0.00</td>\n",
       "      <td>152.100</td>\n",
       "      <td>5.7378</td>\n",
       "    </tr>\n",
       "    <tr>\n",
       "      <th>349</th>\n",
       "      <td>1733011200</td>\n",
       "      <td>3940.00</td>\n",
       "      <td>2006.089195</td>\n",
       "      <td>4218.00</td>\n",
       "      <td>0.418429</td>\n",
       "      <td>0.00</td>\n",
       "      <td>129.500</td>\n",
       "      <td>6.0894</td>\n",
       "    </tr>\n",
       "  </tbody>\n",
       "</table>\n",
       "<p>296 rows × 8 columns</p>\n",
       "</div>"
      ],
      "text/plain": [
       "        ano_mes   estoque   exportacao  processamento  importacao  producao  \\\n",
       "38    920246400   5121.27   523.877889        1799.80   19.050000  10354.41   \n",
       "39    922924800   8237.95  1568.170612        2317.33  132.404010   4392.78   \n",
       "40    925516800   7731.05  1860.894337        2483.90   68.982000   1568.85   \n",
       "41    928195200   6656.48  1422.179649        2234.57  102.503235    627.54   \n",
       "42    930787200   5429.49  1252.347954        2045.99   75.659139    627.54   \n",
       "..          ...       ...          ...            ...         ...       ...   \n",
       "345  1722470400  14094.00  8041.521901        4368.00   50.174977   1535.00   \n",
       "346  1725148800  11915.00  6106.462842        4194.00   15.000000      0.00   \n",
       "347  1727740800   9149.00  4709.986654        4447.00    0.000052      0.00   \n",
       "348  1730419200   6693.00  2553.033885        4145.00    3.158000      0.00   \n",
       "349  1733011200   3940.00  2006.089195        4218.00    0.418429      0.00   \n",
       "\n",
       "     rondonopolis_r$/saca  usdbrl  \n",
       "38                 14.390  1.8900  \n",
       "39                 13.020  1.7300  \n",
       "40                 13.200  1.6700  \n",
       "41                 13.820  1.7700  \n",
       "42                 13.830  1.8100  \n",
       "..                    ...     ...  \n",
       "345               128.600  5.5079  \n",
       "346               134.000  5.5988  \n",
       "347               141.125  5.6030  \n",
       "348               152.100  5.7378  \n",
       "349               129.500  6.0894  \n",
       "\n",
       "[296 rows x 8 columns]"
      ]
     },
     "execution_count": 9,
     "metadata": {},
     "output_type": "execute_result"
    }
   ],
   "source": [
    "# limpar df por preco para treinar o modelo\n",
    "soja_rondonopolis = soja_mensal.drop(['ano', 'mes', 'compra_liquida', 'chicago_cbot_u$/t','fob_porto_paranagua_u$/t', 'maringa_r$/saca', 'mogiana_r$/saca', 'passofundo_r$/saca', 'saldo'], axis=1)\n",
    "soja_rondonopolis[\"ano_mes\"] = soja_rondonopolis[\"ano_mes\"].astype(np.int64) // 10**9\n",
    "soja_rondonopolis.info()\n",
    "\n",
    "soja_rondonopolis\n"
   ]
  },
  {
   "cell_type": "code",
   "execution_count": 10,
   "metadata": {},
   "outputs": [
    {
     "data": {
      "text/plain": [
       "rondonopolis_r$/saca    1.000000\n",
       "usdbrl                  0.878289\n",
       "ano_mes                 0.858834\n",
       "processamento           0.749614\n",
       "exportacao              0.525177\n",
       "estoque                 0.397011\n",
       "producao                0.186229\n",
       "importacao              0.061940\n",
       "Name: rondonopolis_r$/saca, dtype: float64"
      ]
     },
     "execution_count": 10,
     "metadata": {},
     "output_type": "execute_result"
    }
   ],
   "source": [
    "soja_rondonopolis.corr()[\"rondonopolis_r$/saca\"].sort_values(ascending=False)"
   ]
  },
  {
   "cell_type": "markdown",
   "metadata": {},
   "source": [
    "# Treinamento de modelos de Machine Learning"
   ]
  },
  {
   "cell_type": "code",
   "execution_count": 11,
   "metadata": {},
   "outputs": [],
   "source": [
    "from sklearn.model_selection import train_test_split\n",
    "\n",
    "Y = soja_rondonopolis[\"rondonopolis_r$/saca\"]\n",
    "X = soja_rondonopolis.loc[:, soja_rondonopolis.columns != 'rondonopolis_r$/saca']\n",
    "x_train, x_test, y_train, y_test = train_test_split(X, Y, test_size=0.33)"
   ]
  },
  {
   "cell_type": "markdown",
   "metadata": {},
   "source": [
    "## LinearRegression"
   ]
  },
  {
   "cell_type": "code",
   "execution_count": 12,
   "metadata": {},
   "outputs": [],
   "source": [
    "from sklearn.linear_model import LinearRegression\n",
    "from sklearn.metrics import mean_squared_error\n",
    "\n",
    "lin_reg = LinearRegression()\n",
    "lin_reg.fit(x_train, y_train) # Aqui ele vai utilizar a função custo para fazer a otimização do modelo\n",
    "preds = lin_reg.predict(x_train)\n",
    "lin_mse = mean_squared_error(y_train, preds)\n",
    "lin_rmse = np.sqrt(lin_mse)"
   ]
  },
  {
   "cell_type": "code",
   "execution_count": 13,
   "metadata": {},
   "outputs": [
    {
     "name": "stdout",
     "output_type": "stream",
     "text": [
      "Predições: [-0.11809456 69.77018878 35.0164425  54.30358468 38.91165819]\n",
      "Labels: [16.54       60.9        46.36666667 75.88       40.4       ]\n",
      "-----\n",
      "lin_mse: 260.54848526510915\n",
      "lin_rmse: 16.141514342375352\n"
     ]
    }
   ],
   "source": [
    "alguns_dados = x_train.iloc[0:5]\n",
    "algumas_labels = y_train.iloc[0:5]\n",
    "\n",
    "print(\"Predições:\", lin_reg.predict(alguns_dados))\n",
    "print(\"Labels:\", algumas_labels.values)\n",
    "print(\"-----\")\n",
    "print(\"lin_mse:\", lin_mse)\n",
    "print(\"lin_rmse:\", lin_rmse)"
   ]
  },
  {
   "cell_type": "markdown",
   "metadata": {},
   "source": [
    "## DecisionTree Regressor"
   ]
  },
  {
   "cell_type": "code",
   "execution_count": 14,
   "metadata": {},
   "outputs": [],
   "source": [
    "from sklearn.tree import DecisionTreeRegressor\n",
    "\n",
    "tree_reg = DecisionTreeRegressor(\n",
    "    max_depth=5,            # Profundidade máxima da árvore (limita a complexidade)\n",
    "    min_samples_split=10,   # Número mínimo de amostras para dividir um nó\n",
    "    min_samples_leaf=5      # Número mínimo de amostras em uma folha\n",
    ")\n",
    "tree_reg.fit(x_train, y_train)\n",
    "preds1 = tree_reg.predict(x_train)\n",
    "tree_mse = mean_squared_error(y_train, preds1)\n",
    "tree_rmse = np.sqrt(tree_mse)\n",
    "\n"
   ]
  },
  {
   "cell_type": "code",
   "execution_count": 15,
   "metadata": {},
   "outputs": [
    {
     "name": "stdout",
     "output_type": "stream",
     "text": [
      "Predições: [17.455      60.07546875 41.38863095 69.20935185 41.38863095]\n",
      "Labels: [16.54       60.9        46.36666667 75.88       40.4       ]\n",
      "-----\n",
      "tree_mse: 38.30067586803505\n",
      "tree_rmse: 6.188753983479635\n"
     ]
    }
   ],
   "source": [
    "print(\"Predições:\", tree_reg.predict(alguns_dados))\n",
    "print(\"Labels:\", algumas_labels.values)\n",
    "print(\"-----\")\n",
    "print(\"tree_mse:\", tree_mse)\n",
    "print(\"tree_rmse:\", tree_rmse)"
   ]
  },
  {
   "cell_type": "markdown",
   "metadata": {},
   "source": [
    "## RandomForest Regressors - Modelo Promissor"
   ]
  },
  {
   "cell_type": "code",
   "execution_count": 16,
   "metadata": {},
   "outputs": [],
   "source": [
    "from sklearn.ensemble import RandomForestRegressor\n",
    "\n",
    "rf_reg = RandomForestRegressor()\n",
    "rf_reg.fit(x_train, y_train)\n",
    "preds2 = rf_reg.predict(x_train)\n",
    "rf_mse = mean_squared_error(y_train, preds2)\n",
    "rf_rmse = np.sqrt(rf_mse)"
   ]
  },
  {
   "cell_type": "code",
   "execution_count": 17,
   "metadata": {},
   "outputs": [
    {
     "name": "stdout",
     "output_type": "stream",
     "text": [
      "Predições: [16.8526     61.41875    45.45785    72.80709167 41.46958333]\n",
      "Labels: [16.54       60.9        46.36666667 75.88       40.4       ]\n",
      "-----\n",
      "rf_mse: 6.931393379799076\n",
      "rf_rmse: 2.6327539535245363\n"
     ]
    }
   ],
   "source": [
    "print(\"Predições:\", rf_reg.predict(alguns_dados))\n",
    "print(\"Labels:\", algumas_labels.values)\n",
    "print(\"-----\")\n",
    "print(\"rf_mse:\", rf_mse)\n",
    "print(\"rf_rmse:\", rf_rmse)"
   ]
  },
  {
   "cell_type": "markdown",
   "metadata": {},
   "source": [
    "## Cross-Validation"
   ]
  },
  {
   "cell_type": "code",
   "execution_count": 18,
   "metadata": {},
   "outputs": [
    {
     "name": "stdout",
     "output_type": "stream",
     "text": [
      "Scores: [15.75387436 16.43304084 15.20433593 14.00067597 16.75568315 12.82060235\n",
      " 17.11928916 22.30900148 20.06832848 18.62656288]\n",
      "Mean: 16.909139459775737\n",
      "Standard deviation: 2.6795372359284344\n"
     ]
    }
   ],
   "source": [
    "from sklearn.model_selection import cross_val_score\n",
    "\n",
    "scores = cross_val_score(lin_reg, x_train, y_train, scoring=\"neg_mean_squared_error\", cv=10)\n",
    "lin_rmse_scores = np.sqrt(-scores)\n",
    "\n",
    "def display_scores(scores):\n",
    "    print(\"Scores:\", scores)\n",
    "    print(\"Mean:\", scores.mean())\n",
    "    print(\"Standard deviation:\", scores.std())\n",
    "\n",
    "display_scores(lin_rmse_scores)"
   ]
  },
  {
   "cell_type": "code",
   "execution_count": 19,
   "metadata": {},
   "outputs": [
    {
     "name": "stdout",
     "output_type": "stream",
     "text": [
      "Scores: [ 7.28878243 14.37805592  5.19135083  4.48030668 13.30167909  6.7851283\n",
      " 12.96972374 10.97768849  5.97219003  6.92031955]\n",
      "Mean: 8.826522505400252\n",
      "Standard deviation: 3.5079481866696143\n"
     ]
    }
   ],
   "source": [
    "scores1 = cross_val_score(tree_reg, x_train, y_train, scoring=\"neg_mean_squared_error\", cv=10)\n",
    "tree_rmse_scores = np.sqrt(-scores1)\n",
    "\n",
    "def display_scores(scores1):\n",
    "    print(\"Scores:\", scores1)\n",
    "    print(\"Mean:\", scores1.mean())\n",
    "    print(\"Standard deviation:\", scores1.std())\n",
    "\n",
    "display_scores(tree_rmse_scores)"
   ]
  },
  {
   "cell_type": "code",
   "execution_count": 20,
   "metadata": {},
   "outputs": [
    {
     "name": "stdout",
     "output_type": "stream",
     "text": [
      "Scores: [6.72673457 7.91035905 4.42028364 4.05112585 9.40444889 4.64834403\n",
      " 7.13410446 8.96915337 7.51869968 6.87952406]\n",
      "Mean: 6.766277760611748\n",
      "Standard deviation: 1.7663163669063797\n"
     ]
    }
   ],
   "source": [
    "scores2 = cross_val_score(rf_reg, x_train, y_train, scoring=\"neg_mean_squared_error\", cv=10)\n",
    "rf_rmse_scores = np.sqrt(-scores2)\n",
    "\n",
    "def display_scores(scores2):\n",
    "    print(\"Scores:\", scores2)\n",
    "    print(\"Mean:\", scores2.mean())\n",
    "    print(\"Standard deviation:\", scores2.std())\n",
    "\n",
    "display_scores(rf_rmse_scores)"
   ]
  },
  {
   "cell_type": "markdown",
   "metadata": {},
   "source": [
    "-- -- -- -- --\n",
    "Após o Cross-Validation detectamos que o **RandomForest Regressors** se comportou melhor no treinamento - Modelo Promissor!\n",
    "-- -- -- -- --"
   ]
  },
  {
   "cell_type": "markdown",
   "metadata": {},
   "source": [
    "# Avaliar e otimizar Modelo Promissor de Machine Learning"
   ]
  },
  {
   "cell_type": "code",
   "execution_count": 21,
   "metadata": {},
   "outputs": [],
   "source": [
    "from sklearn.model_selection import GridSearchCV\n",
    "\n",
    "param_grid = [\n",
    "    {'n_estimators': [3,10,30], 'max_features': [2,4,6,8]}\n",
    "]\n",
    "\n",
    "forest_reg = RandomForestRegressor()\n",
    "grid_search = GridSearchCV(forest_reg, param_grid, cv=5, scoring='neg_mean_squared_error')\n",
    "grid_search.fit(x_train, y_train)\n",
    "final_model = grid_search.best_estimator_\n",
    "preds_final = final_model.predict(x_train)\n",
    "final_mse = mean_squared_error(y_train, preds_final)\n",
    "final_rmse = np.sqrt(final_mse)"
   ]
  },
  {
   "cell_type": "code",
   "execution_count": 22,
   "metadata": {},
   "outputs": [
    {
     "name": "stdout",
     "output_type": "stream",
     "text": [
      "estimator: RandomForestRegressor(max_features=8, n_estimators=30)\n",
      "params: {'max_features': 8, 'n_estimators': 30}\n",
      "score: -58.27772068217996\n",
      "index: 11\n"
     ]
    }
   ],
   "source": [
    "print(\"estimator:\", grid_search.best_estimator_)\n",
    "print(\"params:\", grid_search.best_params_)\n",
    "print(\"score:\", grid_search.best_score_)\n",
    "print(\"index:\", grid_search.best_index_)"
   ]
  },
  {
   "cell_type": "code",
   "execution_count": 23,
   "metadata": {},
   "outputs": [
    {
     "name": "stdout",
     "output_type": "stream",
     "text": [
      "Predições: [16.37333333 61.32166667 44.90222222 74.02216667 41.06333333]\n",
      "Labels: [16.54       60.9        46.36666667 75.88       40.4       ]\n",
      "-----\n",
      "final_mse: 6.946769358012775\n",
      "final_rmse: 2.6356724678936825\n"
     ]
    }
   ],
   "source": [
    "print(\"Predições:\", final_model.predict(alguns_dados))\n",
    "print(\"Labels:\", algumas_labels.values)\n",
    "print(\"-----\")\n",
    "print(\"final_mse:\", final_mse)\n",
    "print(\"final_rmse:\", final_rmse)"
   ]
  },
  {
   "cell_type": "markdown",
   "metadata": {},
   "source": [
    "Avaliando modelo otimizado com os dados de teste"
   ]
  },
  {
   "cell_type": "code",
   "execution_count": 24,
   "metadata": {},
   "outputs": [],
   "source": [
    "final_model = grid_search.best_estimator_\n",
    "preds_test = final_model.predict(x_test)\n",
    "test_mse = mean_squared_error(y_test, preds_test)\n",
    "test_rmse = np.sqrt(test_mse)"
   ]
  },
  {
   "cell_type": "code",
   "execution_count": 25,
   "metadata": {},
   "outputs": [
    {
     "name": "stdout",
     "output_type": "stream",
     "text": [
      "Predições: [27.25055556 25.672      14.84933333 69.08333333 79.12833333]\n",
      "Labels: [28.25  24.9   13.2   62.45  78.875]\n",
      "-----\n",
      "final_mse: 31.16839411346879\n",
      "final_rmse: 5.582866119966409\n"
     ]
    }
   ],
   "source": [
    "test_dados = x_test.iloc[0:5]\n",
    "test_labels = y_test.iloc[0:5]\n",
    "\n",
    "print(\"Predições:\", final_model.predict(test_dados))\n",
    "print(\"Labels:\", test_labels.values)\n",
    "print(\"-----\")\n",
    "print(\"final_mse:\", test_mse)\n",
    "print(\"final_rmse:\", test_rmse)"
   ]
  },
  {
   "cell_type": "code",
   "execution_count": null,
   "metadata": {},
   "outputs": [
    {
     "data": {
      "application/vnd.plotly.v1+json": {
       "config": {
        "plotlyServerURL": "https://plot.ly"
       },
       "data": [
        {
         "type": "scatter",
         "y": {
          "bdata": "AAAAAABAPEBmZmZmZuY4QGZmZmZmZipAmpmZmZk5T0AAAAAAALhTQKRwPQrXI0BASOF6FK5HLUCamZmZmXlGQDMzMzMzU1FAXI/C9ShcPUAAAAAAAEhQQM3MzMzM/FNAAAAAAACkYUCF61G4HtVQQM3MzMzMTD9AAAAAAAAARUCF61G4HkU5QGZmZmZmPk5AZmZmZmZmPkApXI/C9agvQPYoXI/CFVFAMzMzMzMzTkBxPQrXoxBOQDMzMzMz8zhApHA9CtejP0BI4XoUrscsQFeYqqqqKkZAAAAAAAAYUUAAAAAAAABNQDMzMzMzE2BAcT0K16NwNUBmZmZmZiZNQAAAAAAAQFFAAAAAAAAYY0AzMzMzM/NDQAAAAAAAHGBAAAAAAADgTEAAAAAAABhgQHE9Ctej8C5AUc+qqqqqOEApXI/C9agrQM3MzMzMDEVAAAAAAAAAYkCkcD0K1yMzQM3MzMzM7D1AAAAAAABAQkAAAAAAAEA6QM3MzMzMzDBAAAAAAABkZUBmZmZmZqZjQAAAAAAAIERAAAAAAAA4UUA9CtejcL0tQB+F61G4rlBAAAAAAAAQTkCamZmZmelDQKlnVVVV1UNAAAAAAADwTkCPwvUoXA9AQNejcD0KV1NAzczMzMwsXUBSuB6F6xEwQM3MzMzMbDhAj8L1KFwPLkDUs6qqqipSQHsUrkfhmkRAAAAAAABkZUAzMzMzM1NRQAAAAAAAlGdAAAAAAAAgO0AAAAAAALRRQClcj8L1qDJAmpmZmZk5Q0CpZ1VVVVVEQBSuR+F61DFAAAAAAADAUUCPwvUoXE8yQOF6FK5HgUVAAAAAAABwU0CamZmZmWlEQM3MzMzMHFNArzBVVVVVOUAAAAAAAIBDQPYoXI/C9S1AAAAAAAAwVUAAAAAAANRRQFK4HoXrMUBAAAAAAACQZUAAAAAAAKhdQAAAAAAAiGZAzczMzMykUUAAAAAAAEBGQArXo3A9CipAAAAAAADAZEAAAAAAANBGQAAAAAAAIE9AzczMzMycYECamZmZmWliQA==",
          "dtype": "f8"
         }
        },
        {
         "type": "scatter",
         "y": {
          "bdata": "G/asaCRAO0B86SYxCKw5QH8jlNHbsi1AVVVVVVVFUUDQaQOdNshTQJ9hV4Dce0JAX+XQIts5LkDqvzINTp1EQBIREREROVJAnjbQaQMdRUCLKxoJ+PZRQOQXS36xhFNAjCW/WPK/YEA6tMh2vgNRQJNfLPnFkkBAB6WgZvlwREAuS5/0SZ86QDbQaQOdQk5AvraBThtQRUATZx8+ww4wQGKeqH8jPFFA/WLJL5aIUkBG/RuhjJJOQKFMMudolzhAWvKLJb9wQUABAAAAAAAxQBK6/UGG0kRA8ZGAb16HUUAOkHvNhaROQFK4HoXrJWBATvBgnqifNkC6HoXrUXhPQAAAAAAAkFJAfrHkF0uqZUABqewwdUFEQOQXS36x9F9A+25/kKHyT0AVrkfheqhfQH34DLsCJDFAPxWIYqNKOkAHHswT9e8tQOZpJOCbr0NAsuQXS36BZEAkv1jyiwUxQCY1PXfk1D1AzEX4ecjzQkBJoX8jlAE8QJPR27JWhzBAHOi0gU65ZEDaG3xhMoZkQF2x2tOZ/ENAbqDTBjoRUkCLbOf7qfEwQPLSTWIQjFBAXatjggd3TkBuoNMGOi1DQPUIhjccJEJA9u5PWGVrTkDday4kTclBQAKjkYBvbFFAoNMGOm3sXkALuwLkXlMwQJGYXLWnQzxAa3VM8GBeL0Bdj8L1KH5SQCzp2maMS0JAWyBB8WOdZEDD9Shcj05RQNEA3gKJ5mRAfXi0W2n9OkDe3d3d3VVSQKdUnH34jDNAOXlWNBLwREBFEYvZ9DREQMcED+aJmjFApHA9CtcjUkCTfwJRbPQ1QP1iyS+WzEFAYskvlvzGUkDlF0t+sdxEQBEREREREVJA+gFswRbMO0B12kCnDUxFQAy7AuReMzFADXTaQKeNWEA+CtejcC1SQMWrCNIBsEJAJb9Y8ottZUDC9Shcj8ZfQHrvgpufIGVAUY2XbhKHUUDR/wy7AsRFQEYoo7dlbS5AKjdkFrSyZEA9Fo0EfCNFQNIS8M2rRU5Aq6qqqqoUYEA3Z0Rp7+RiQA==",
          "dtype": "f8"
         }
        }
       ],
       "layout": {
        "template": {
         "data": {
          "bar": [
           {
            "error_x": {
             "color": "#2a3f5f"
            },
            "error_y": {
             "color": "#2a3f5f"
            },
            "marker": {
             "line": {
              "color": "#E5ECF6",
              "width": 0.5
             },
             "pattern": {
              "fillmode": "overlay",
              "size": 10,
              "solidity": 0.2
             }
            },
            "type": "bar"
           }
          ],
          "barpolar": [
           {
            "marker": {
             "line": {
              "color": "#E5ECF6",
              "width": 0.5
             },
             "pattern": {
              "fillmode": "overlay",
              "size": 10,
              "solidity": 0.2
             }
            },
            "type": "barpolar"
           }
          ],
          "carpet": [
           {
            "aaxis": {
             "endlinecolor": "#2a3f5f",
             "gridcolor": "white",
             "linecolor": "white",
             "minorgridcolor": "white",
             "startlinecolor": "#2a3f5f"
            },
            "baxis": {
             "endlinecolor": "#2a3f5f",
             "gridcolor": "white",
             "linecolor": "white",
             "minorgridcolor": "white",
             "startlinecolor": "#2a3f5f"
            },
            "type": "carpet"
           }
          ],
          "choropleth": [
           {
            "colorbar": {
             "outlinewidth": 0,
             "ticks": ""
            },
            "type": "choropleth"
           }
          ],
          "contour": [
           {
            "colorbar": {
             "outlinewidth": 0,
             "ticks": ""
            },
            "colorscale": [
             [
              0,
              "#0d0887"
             ],
             [
              0.1111111111111111,
              "#46039f"
             ],
             [
              0.2222222222222222,
              "#7201a8"
             ],
             [
              0.3333333333333333,
              "#9c179e"
             ],
             [
              0.4444444444444444,
              "#bd3786"
             ],
             [
              0.5555555555555556,
              "#d8576b"
             ],
             [
              0.6666666666666666,
              "#ed7953"
             ],
             [
              0.7777777777777778,
              "#fb9f3a"
             ],
             [
              0.8888888888888888,
              "#fdca26"
             ],
             [
              1,
              "#f0f921"
             ]
            ],
            "type": "contour"
           }
          ],
          "contourcarpet": [
           {
            "colorbar": {
             "outlinewidth": 0,
             "ticks": ""
            },
            "type": "contourcarpet"
           }
          ],
          "heatmap": [
           {
            "colorbar": {
             "outlinewidth": 0,
             "ticks": ""
            },
            "colorscale": [
             [
              0,
              "#0d0887"
             ],
             [
              0.1111111111111111,
              "#46039f"
             ],
             [
              0.2222222222222222,
              "#7201a8"
             ],
             [
              0.3333333333333333,
              "#9c179e"
             ],
             [
              0.4444444444444444,
              "#bd3786"
             ],
             [
              0.5555555555555556,
              "#d8576b"
             ],
             [
              0.6666666666666666,
              "#ed7953"
             ],
             [
              0.7777777777777778,
              "#fb9f3a"
             ],
             [
              0.8888888888888888,
              "#fdca26"
             ],
             [
              1,
              "#f0f921"
             ]
            ],
            "type": "heatmap"
           }
          ],
          "histogram": [
           {
            "marker": {
             "pattern": {
              "fillmode": "overlay",
              "size": 10,
              "solidity": 0.2
             }
            },
            "type": "histogram"
           }
          ],
          "histogram2d": [
           {
            "colorbar": {
             "outlinewidth": 0,
             "ticks": ""
            },
            "colorscale": [
             [
              0,
              "#0d0887"
             ],
             [
              0.1111111111111111,
              "#46039f"
             ],
             [
              0.2222222222222222,
              "#7201a8"
             ],
             [
              0.3333333333333333,
              "#9c179e"
             ],
             [
              0.4444444444444444,
              "#bd3786"
             ],
             [
              0.5555555555555556,
              "#d8576b"
             ],
             [
              0.6666666666666666,
              "#ed7953"
             ],
             [
              0.7777777777777778,
              "#fb9f3a"
             ],
             [
              0.8888888888888888,
              "#fdca26"
             ],
             [
              1,
              "#f0f921"
             ]
            ],
            "type": "histogram2d"
           }
          ],
          "histogram2dcontour": [
           {
            "colorbar": {
             "outlinewidth": 0,
             "ticks": ""
            },
            "colorscale": [
             [
              0,
              "#0d0887"
             ],
             [
              0.1111111111111111,
              "#46039f"
             ],
             [
              0.2222222222222222,
              "#7201a8"
             ],
             [
              0.3333333333333333,
              "#9c179e"
             ],
             [
              0.4444444444444444,
              "#bd3786"
             ],
             [
              0.5555555555555556,
              "#d8576b"
             ],
             [
              0.6666666666666666,
              "#ed7953"
             ],
             [
              0.7777777777777778,
              "#fb9f3a"
             ],
             [
              0.8888888888888888,
              "#fdca26"
             ],
             [
              1,
              "#f0f921"
             ]
            ],
            "type": "histogram2dcontour"
           }
          ],
          "mesh3d": [
           {
            "colorbar": {
             "outlinewidth": 0,
             "ticks": ""
            },
            "type": "mesh3d"
           }
          ],
          "parcoords": [
           {
            "line": {
             "colorbar": {
              "outlinewidth": 0,
              "ticks": ""
             }
            },
            "type": "parcoords"
           }
          ],
          "pie": [
           {
            "automargin": true,
            "type": "pie"
           }
          ],
          "scatter": [
           {
            "fillpattern": {
             "fillmode": "overlay",
             "size": 10,
             "solidity": 0.2
            },
            "type": "scatter"
           }
          ],
          "scatter3d": [
           {
            "line": {
             "colorbar": {
              "outlinewidth": 0,
              "ticks": ""
             }
            },
            "marker": {
             "colorbar": {
              "outlinewidth": 0,
              "ticks": ""
             }
            },
            "type": "scatter3d"
           }
          ],
          "scattercarpet": [
           {
            "marker": {
             "colorbar": {
              "outlinewidth": 0,
              "ticks": ""
             }
            },
            "type": "scattercarpet"
           }
          ],
          "scattergeo": [
           {
            "marker": {
             "colorbar": {
              "outlinewidth": 0,
              "ticks": ""
             }
            },
            "type": "scattergeo"
           }
          ],
          "scattergl": [
           {
            "marker": {
             "colorbar": {
              "outlinewidth": 0,
              "ticks": ""
             }
            },
            "type": "scattergl"
           }
          ],
          "scattermap": [
           {
            "marker": {
             "colorbar": {
              "outlinewidth": 0,
              "ticks": ""
             }
            },
            "type": "scattermap"
           }
          ],
          "scattermapbox": [
           {
            "marker": {
             "colorbar": {
              "outlinewidth": 0,
              "ticks": ""
             }
            },
            "type": "scattermapbox"
           }
          ],
          "scatterpolar": [
           {
            "marker": {
             "colorbar": {
              "outlinewidth": 0,
              "ticks": ""
             }
            },
            "type": "scatterpolar"
           }
          ],
          "scatterpolargl": [
           {
            "marker": {
             "colorbar": {
              "outlinewidth": 0,
              "ticks": ""
             }
            },
            "type": "scatterpolargl"
           }
          ],
          "scatterternary": [
           {
            "marker": {
             "colorbar": {
              "outlinewidth": 0,
              "ticks": ""
             }
            },
            "type": "scatterternary"
           }
          ],
          "surface": [
           {
            "colorbar": {
             "outlinewidth": 0,
             "ticks": ""
            },
            "colorscale": [
             [
              0,
              "#0d0887"
             ],
             [
              0.1111111111111111,
              "#46039f"
             ],
             [
              0.2222222222222222,
              "#7201a8"
             ],
             [
              0.3333333333333333,
              "#9c179e"
             ],
             [
              0.4444444444444444,
              "#bd3786"
             ],
             [
              0.5555555555555556,
              "#d8576b"
             ],
             [
              0.6666666666666666,
              "#ed7953"
             ],
             [
              0.7777777777777778,
              "#fb9f3a"
             ],
             [
              0.8888888888888888,
              "#fdca26"
             ],
             [
              1,
              "#f0f921"
             ]
            ],
            "type": "surface"
           }
          ],
          "table": [
           {
            "cells": {
             "fill": {
              "color": "#EBF0F8"
             },
             "line": {
              "color": "white"
             }
            },
            "header": {
             "fill": {
              "color": "#C8D4E3"
             },
             "line": {
              "color": "white"
             }
            },
            "type": "table"
           }
          ]
         },
         "layout": {
          "annotationdefaults": {
           "arrowcolor": "#2a3f5f",
           "arrowhead": 0,
           "arrowwidth": 1
          },
          "autotypenumbers": "strict",
          "coloraxis": {
           "colorbar": {
            "outlinewidth": 0,
            "ticks": ""
           }
          },
          "colorscale": {
           "diverging": [
            [
             0,
             "#8e0152"
            ],
            [
             0.1,
             "#c51b7d"
            ],
            [
             0.2,
             "#de77ae"
            ],
            [
             0.3,
             "#f1b6da"
            ],
            [
             0.4,
             "#fde0ef"
            ],
            [
             0.5,
             "#f7f7f7"
            ],
            [
             0.6,
             "#e6f5d0"
            ],
            [
             0.7,
             "#b8e186"
            ],
            [
             0.8,
             "#7fbc41"
            ],
            [
             0.9,
             "#4d9221"
            ],
            [
             1,
             "#276419"
            ]
           ],
           "sequential": [
            [
             0,
             "#0d0887"
            ],
            [
             0.1111111111111111,
             "#46039f"
            ],
            [
             0.2222222222222222,
             "#7201a8"
            ],
            [
             0.3333333333333333,
             "#9c179e"
            ],
            [
             0.4444444444444444,
             "#bd3786"
            ],
            [
             0.5555555555555556,
             "#d8576b"
            ],
            [
             0.6666666666666666,
             "#ed7953"
            ],
            [
             0.7777777777777778,
             "#fb9f3a"
            ],
            [
             0.8888888888888888,
             "#fdca26"
            ],
            [
             1,
             "#f0f921"
            ]
           ],
           "sequentialminus": [
            [
             0,
             "#0d0887"
            ],
            [
             0.1111111111111111,
             "#46039f"
            ],
            [
             0.2222222222222222,
             "#7201a8"
            ],
            [
             0.3333333333333333,
             "#9c179e"
            ],
            [
             0.4444444444444444,
             "#bd3786"
            ],
            [
             0.5555555555555556,
             "#d8576b"
            ],
            [
             0.6666666666666666,
             "#ed7953"
            ],
            [
             0.7777777777777778,
             "#fb9f3a"
            ],
            [
             0.8888888888888888,
             "#fdca26"
            ],
            [
             1,
             "#f0f921"
            ]
           ]
          },
          "colorway": [
           "#636efa",
           "#EF553B",
           "#00cc96",
           "#ab63fa",
           "#FFA15A",
           "#19d3f3",
           "#FF6692",
           "#B6E880",
           "#FF97FF",
           "#FECB52"
          ],
          "font": {
           "color": "#2a3f5f"
          },
          "geo": {
           "bgcolor": "white",
           "lakecolor": "white",
           "landcolor": "#E5ECF6",
           "showlakes": true,
           "showland": true,
           "subunitcolor": "white"
          },
          "hoverlabel": {
           "align": "left"
          },
          "hovermode": "closest",
          "mapbox": {
           "style": "light"
          },
          "paper_bgcolor": "white",
          "plot_bgcolor": "#E5ECF6",
          "polar": {
           "angularaxis": {
            "gridcolor": "white",
            "linecolor": "white",
            "ticks": ""
           },
           "bgcolor": "#E5ECF6",
           "radialaxis": {
            "gridcolor": "white",
            "linecolor": "white",
            "ticks": ""
           }
          },
          "scene": {
           "xaxis": {
            "backgroundcolor": "#E5ECF6",
            "gridcolor": "white",
            "gridwidth": 2,
            "linecolor": "white",
            "showbackground": true,
            "ticks": "",
            "zerolinecolor": "white"
           },
           "yaxis": {
            "backgroundcolor": "#E5ECF6",
            "gridcolor": "white",
            "gridwidth": 2,
            "linecolor": "white",
            "showbackground": true,
            "ticks": "",
            "zerolinecolor": "white"
           },
           "zaxis": {
            "backgroundcolor": "#E5ECF6",
            "gridcolor": "white",
            "gridwidth": 2,
            "linecolor": "white",
            "showbackground": true,
            "ticks": "",
            "zerolinecolor": "white"
           }
          },
          "shapedefaults": {
           "line": {
            "color": "#2a3f5f"
           }
          },
          "ternary": {
           "aaxis": {
            "gridcolor": "white",
            "linecolor": "white",
            "ticks": ""
           },
           "baxis": {
            "gridcolor": "white",
            "linecolor": "white",
            "ticks": ""
           },
           "bgcolor": "#E5ECF6",
           "caxis": {
            "gridcolor": "white",
            "linecolor": "white",
            "ticks": ""
           }
          },
          "title": {
           "x": 0.05
          },
          "xaxis": {
           "automargin": true,
           "gridcolor": "white",
           "linecolor": "white",
           "ticks": "",
           "title": {
            "standoff": 15
           },
           "zerolinecolor": "white",
           "zerolinewidth": 2
          },
          "yaxis": {
           "automargin": true,
           "gridcolor": "white",
           "linecolor": "white",
           "ticks": "",
           "title": {
            "standoff": 15
           },
           "zerolinecolor": "white",
           "zerolinewidth": 2
          }
         }
        }
       }
      }
     },
     "metadata": {},
     "output_type": "display_data"
    }
   ],
   "source": [
    "fig = go.Figure(data=[go.Scatter(y=y_test.values),\n",
    "                      go.Scatter(y=preds_test)])\n",
    "\n",
    "fig.show()"
   ]
  }
 ],
 "metadata": {
  "kernelspec": {
   "display_name": "Python 3",
   "language": "python",
   "name": "python3"
  },
  "language_info": {
   "codemirror_mode": {
    "name": "ipython",
    "version": 3
   },
   "file_extension": ".py",
   "mimetype": "text/x-python",
   "name": "python",
   "nbconvert_exporter": "python",
   "pygments_lexer": "ipython3",
   "version": "3.13.2"
  }
 },
 "nbformat": 4,
 "nbformat_minor": 2
}
